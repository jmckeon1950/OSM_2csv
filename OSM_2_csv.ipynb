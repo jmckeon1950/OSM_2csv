{
 "cells": [
  {
   "cell_type": "code",
   "execution_count": null,
   "id": "e3d77db3-e650-4fc6-93ba-2c71e4e70eb3",
   "metadata": {},
   "outputs": [],
   "source": [
    "#This code will deliminate OSM csv into individual roads"
   ]
  },
  {
   "cell_type": "code",
   "execution_count": null,
   "id": "6619820b-de94-4dbc-af01-49d16e77d1ab",
   "metadata": {},
   "outputs": [],
   "source": []
  },
  {
   "cell_type": "code",
   "execution_count": 1,
   "id": "716852cf-36aa-4f8f-b609-00276a676a36",
   "metadata": {},
   "outputs": [
    {
     "ename": "IndexError",
     "evalue": "list index out of range",
     "output_type": "error",
     "traceback": [
      "\u001b[0;31m---------------------------------------------------------------------------\u001b[0m",
      "\u001b[0;31mIndexError\u001b[0m                                Traceback (most recent call last)",
      "Cell \u001b[0;32mIn[1], line 20\u001b[0m\n\u001b[1;32m     18\u001b[0m     key_value_pair \u001b[38;5;241m=\u001b[39m attribute\u001b[38;5;241m.\u001b[39msplit(\u001b[38;5;124m'\u001b[39m\u001b[38;5;124m\"\u001b[39m\u001b[38;5;124m=>\u001b[39m\u001b[38;5;124m\"\u001b[39m\u001b[38;5;124m'\u001b[39m)\n\u001b[1;32m     19\u001b[0m     key \u001b[38;5;241m=\u001b[39m key_value_pair[\u001b[38;5;241m0\u001b[39m]\u001b[38;5;241m.\u001b[39mreplace(\u001b[38;5;124m'\u001b[39m\u001b[38;5;124m\"\u001b[39m\u001b[38;5;124m'\u001b[39m, \u001b[38;5;124m'\u001b[39m\u001b[38;5;124m'\u001b[39m)\u001b[38;5;241m.\u001b[39mreplace(\u001b[38;5;124m'\u001b[39m\u001b[38;5;124m:\u001b[39m\u001b[38;5;124m'\u001b[39m, \u001b[38;5;124m'\u001b[39m\u001b[38;5;124m_\u001b[39m\u001b[38;5;124m'\u001b[39m)\n\u001b[0;32m---> 20\u001b[0m     value \u001b[38;5;241m=\u001b[39m \u001b[43mkey_value_pair\u001b[49m\u001b[43m[\u001b[49m\u001b[38;5;241;43m1\u001b[39;49m\u001b[43m]\u001b[49m\u001b[38;5;241m.\u001b[39mreplace(\u001b[38;5;124m'\u001b[39m\u001b[38;5;124m\"\u001b[39m\u001b[38;5;124m'\u001b[39m, \u001b[38;5;124m'\u001b[39m\u001b[38;5;124m'\u001b[39m)\n\u001b[1;32m     21\u001b[0m     attribute_dict[key] \u001b[38;5;241m=\u001b[39m value\n\u001b[1;32m     23\u001b[0m \u001b[38;5;66;03m# Write the attributes to a CSV file with individual headers\u001b[39;00m\n",
      "\u001b[0;31mIndexError\u001b[0m: list index out of range"
     ]
    }
   ],
   "source": [
    "import csv\n",
    "\n",
    "# Define the enchanted string\n",
    "enchanted_string = '\"cycleway:both\"=>\"no\",\"lane_markings\"=>\"yes\",\"lanes\"=>\"4\",\"lit\"=>\"yes\",\"logainm:ref\"=>\"1382295\",\"logainm:url\"=>\"https://www.logainm.ie/1382295.aspx\",\"maxspeed\"=>\"50\",\"name:en\"=>\"Cardiff Lane\",\"name:ga\"=>\"Lána Chairdif\",\"ref\"=>\"R813\",\"sidewalk\"=>\"both\"'\n",
    "\n",
    "# Split the enchanted string into individual attributes\n",
    "attributes = enchanted_string.split('\",\"')\n",
    "\n",
    "# Remove leading and trailing quotation marks from the first and last attributes\n",
    "attributes[0] = attributes[0].replace('\"', '')\n",
    "attributes[-1] = attributes[-1].replace('\"', '')\n",
    "\n",
    "# Create a dictionary to store the attributes\n",
    "attribute_dict = {}\n",
    "\n",
    "# Populate the dictionary with the attributes\n",
    "for attribute in attributes:\n",
    "    key_value_pair = attribute.split('\"=>\"')\n",
    "    key = key_value_pair[0].replace('\"', '').replace(':', '_')\n",
    "    value = key_value_pair[1].replace('\"', '')\n",
    "    attribute_dict[key] = value\n",
    "\n",
    "# Write the attributes to a CSV file with individual headers\n",
    "with open('/home/vboxuser/Downloads/attributes.csv', 'w', newline='') as csvfile:\n",
    "    writer = csv.DictWriter(csvfile, fieldnames=attribute_dict.keys())\n",
    "    writer.writeheader()\n",
    "    writer.writerow(attribute_dict)"
   ]
  },
  {
   "cell_type": "code",
   "execution_count": null,
   "id": "6e83cbf2-3f7c-4e1b-b8b6-22d74789646d",
   "metadata": {},
   "outputs": [],
   "source": [
    "#Second attempt"
   ]
  },
  {
   "cell_type": "code",
   "execution_count": 2,
   "id": "38e93669-0fa6-46df-be37-3a9f686023d0",
   "metadata": {},
   "outputs": [],
   "source": [
    "import csv\n",
    "\n",
    "# Define the enchanted string\n",
    "enchanted_string = '\"cycleway:both\"=>\"no\",\"lane_markings\"=>\"yes\",\"lanes\"=>\"4\",\"lit\"=>\"yes\",\"logainm:ref\"=>\"1382295\",\"logainm:url\"=>\"https://www.logainm.ie/1382295.aspx\",\"maxspeed\"=>\"50\",\"name:en\"=>\"Cardiff Lane\",\"name:ga\"=>\"Lána Chairdif\",\"ref\"=>\"R813\",\"sidewalk\"=>\"both\"'\n",
    "\n",
    "# Split the enchanted string into individual attributes\n",
    "attributes = enchanted_string.split('\",\"')\n",
    "\n",
    "# Create a dictionary to store the attributes\n",
    "attribute_dict = {}\n",
    "\n",
    "# Populate the dictionary with the attributes\n",
    "for attribute in attributes:\n",
    "    key_value_pair = attribute.split('\"=>\"')\n",
    "    if len(key_value_pair) == 2:\n",
    "        key = key_value_pair[0].replace('\"', '').replace(':', '_')\n",
    "        value = key_value_pair[1].replace('\"', '')\n",
    "        attribute_dict[key] = value\n",
    "\n",
    "# Write the attributes to a CSV file with individual headers\n",
    "with open('/home/vboxuser/Downloads/attributes.csv', 'w', newline='') as csvfile:\n",
    "    writer = csv.DictWriter(csvfile, fieldnames=attribute_dict.keys())\n",
    "    writer.writeheader()\n",
    "    writer.writerow(attribute_dict)\n"
   ]
  },
  {
   "cell_type": "code",
   "execution_count": null,
   "id": "93000b11-e379-4540-b25b-b8acaaeaba38",
   "metadata": {},
   "outputs": [],
   "source": [
    "#itterate it over all rows"
   ]
  },
  {
   "cell_type": "code",
   "execution_count": 6,
   "id": "99ab84b8-c25a-4015-8ff4-fa4dda439b7b",
   "metadata": {},
   "outputs": [],
   "source": [
    "import csv\n",
    "\n",
    "# Open the original CSV file and the new CSV file\n",
    "with open('/home/vboxuser/Downloads/CC_OSM.csv', 'r', newline='') as original_file, open('/home/vboxuser/Downloads/new_CC_OSM.csv', 'w', newline='') as new_file:\n",
    "    reader = csv.DictReader(original_file)\n",
    "    \n",
    "    # Extract the enchanted string column from the original CSV\n",
    "    enchanted_strings = [row['other_tags'] for row in reader]\n",
    "    \n",
    "    # Define the new headers\n",
    "    new_headers = set()\n",
    "    \n",
    "    # Extract and separate attributes from enchanted strings\n",
    "    for enchanted_string in enchanted_strings:\n",
    "        attributes = enchanted_string.split('\",\"')\n",
    "        \n",
    "        # Populate the new headers set with extracted attribute keys\n",
    "        for attribute in attributes:\n",
    "            key_value_pair = attribute.split('\"=>\"')\n",
    "            if len(key_value_pair) == 2:\n",
    "                key = key_value_pair[0].replace('\"', '').replace(':', '_')\n",
    "                new_headers.add(key)\n",
    "    \n",
    "    # Write the original headers and new headers to the new CSV file\n",
    "    original_file.seek(0)\n",
    "    reader = csv.DictReader(original_file)\n",
    "    writer = csv.DictWriter(new_file, fieldnames=reader.fieldnames + list(new_headers))\n",
    "    writer.writeheader()\n",
    "    \n",
    "    # Populate the new CSV file with original and new headers\n",
    "    for row in reader:\n",
    "        enchanted_string = row['other_tags']\n",
    "        attributes = enchanted_string.split('\",\"')\n",
    "        attribute_dict = {}\n",
    "        \n",
    "        # Populate the attribute dictionary with extracted attribute values\n",
    "        for attribute in attributes:\n",
    "            key_value_pair = attribute.split('\"=>\"')\n",
    "            if len(key_value_pair) == 2:\n",
    "                key = key_value_pair[0].replace('\"', '').replace(':', '_')\n",
    "                value = key_value_pair[1].replace('\"', '')\n",
    "                attribute_dict[key] = value\n",
    "        \n",
    "        # Update the original row with the new attributes and write to the new CSV file\n",
    "        row.update(attribute_dict)\n",
    "        writer.writerow(row)\n"
   ]
  },
  {
   "cell_type": "code",
   "execution_count": null,
   "id": "381fc3a5-1c10-4097-a21e-92c2fc8c643a",
   "metadata": {},
   "outputs": [],
   "source": [
    "#Transpose the results"
   ]
  },
  {
   "cell_type": "code",
   "execution_count": 9,
   "id": "50968584-b2ad-41a4-bc78-144914f18d83",
   "metadata": {},
   "outputs": [],
   "source": [
    "import csv\n",
    "from itertools import zip_longest\n",
    "\n",
    "# Define the path to the original CSV file\n",
    "original_csv_path = '/home/vboxuser/Downloads/new_CC_OSM.csv'\n",
    "\n",
    "# Define the path to the new transposed CSV file\n",
    "transposed_csv_path = '/home/vboxuser/Downloads/new_CC_OSM_transposed.csv'\n",
    "\n",
    "# Define a function to transpose the CSV\n",
    "def transpose_csv(input_path, output_path):\n",
    "    # Read the original CSV\n",
    "    with open(input_path, 'r', newline='') as input_file:\n",
    "        reader = csv.reader(input_file)\n",
    "        data = list(reader)\n",
    "    \n",
    "    # Transpose the data\n",
    "    transposed_data = list(zip_longest(*data))\n",
    "    \n",
    "    # Write the transposed data to a new CSV\n",
    "    with open(output_path, 'w', newline='') as output_file:\n",
    "        writer = csv.writer(output_file)\n",
    "        writer.writerows(transposed_data)\n",
    "\n",
    "# Transpose the CSV\n",
    "transpose_csv(original_csv_path, transposed_csv_path)\n"
   ]
  },
  {
   "cell_type": "code",
   "execution_count": null,
   "id": "195490f8-44ea-467a-963b-d2a153cc626e",
   "metadata": {},
   "outputs": [],
   "source": []
  }
 ],
 "metadata": {
  "kernelspec": {
   "display_name": "Python 3 (ipykernel)",
   "language": "python",
   "name": "python3"
  },
  "language_info": {
   "codemirror_mode": {
    "name": "ipython",
    "version": 3
   },
   "file_extension": ".py",
   "mimetype": "text/x-python",
   "name": "python",
   "nbconvert_exporter": "python",
   "pygments_lexer": "ipython3",
   "version": "3.10.12"
  }
 },
 "nbformat": 4,
 "nbformat_minor": 5
}
